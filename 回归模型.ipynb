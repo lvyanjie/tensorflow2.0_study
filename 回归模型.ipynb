{
 "cells": [
  {
   "cell_type": "code",
   "execution_count": 6,
   "metadata": {},
   "outputs": [
    {
     "data": {
      "image/png": "[encoded data removed]",
      "text/plain": [
       "<Figure size 432x288 with 1 Axes>"
      ]
     },
     "metadata": {},
     "output_type": "display_data"
    }
   ],
   "source": [
    "import numpy as np\n",
    "import random\n",
    "import matplotlib.pyplot as plt\n",
    "\n",
    "# 数据生成\n",
    "# 原始函数：y = 1.325 * x + 0.87\n",
    "\n",
    "#随机生成100个x\n",
    "x  = np.array([random.uniform(-10, 10) for i in range(100)])\n",
    "epson = np.array([random.gauss(0,0.15) for i in range(100)])\n",
    "y = 1.325 * x + 0.87 + epson\n",
    "\n",
    "plt.scatter(x, y)\n",
    "plt.show()"
   ]
  },
  {
   "cell_type": "code",
   "execution_count": 11,
   "metadata": {},
   "outputs": [],
   "source": [
    "def mse(y, y_star):\n",
    "    return np.sum((y-y_star)**2) / len(y)"
   ]
  },
  {
   "cell_type": "code",
   "execution_count": 8,
   "metadata": {},
   "outputs": [],
   "source": [
    "def gradient_compute(batch_x, batch_y, w, b):\n",
    "    # w, b是原始的参数\n",
    "    w_grad = np.sum(2/len(batch_x) * (w * batch_x + b - batch_y) * batch_x)\n",
    "    b_grad = np.sum(2/len(batch_x) * (w * batch_x + b - batch_y))\n",
    "    return w_grad, b_grad"
   ]
  },
  {
   "cell_type": "code",
   "execution_count": 9,
   "metadata": {},
   "outputs": [],
   "source": [
    "# 参数更新\n",
    "def param_update(w, b, w_grad, b_grad, lr):\n",
    "    w_up = w - lr * w_grad\n",
    "    b_up = b - lr * b_grad\n",
    "    return w_up, b_up"
   ]
  },
  {
   "cell_type": "code",
   "execution_count": 21,
   "metadata": {},
   "outputs": [
    {
     "name": "stdout",
     "output_type": "stream",
     "text": [
      "steps0: 132.32435501539624\n",
      "steps50: 2.5172389124418135\n",
      "steps100: 1.9016487290281985\n",
      "steps150: 1.5608183354143375\n",
      "steps200: 1.2820772945607914\n",
      "steps250: 1.0539092576364022\n",
      "steps300: 0.8671382625640831\n",
      "steps350: 0.7142535501287349\n",
      "steps400: 0.589107055687613\n",
      "steps450: 0.486666171825372\n",
      "steps500: 0.40281136843401844\n",
      "steps550: 0.3341705310388799\n",
      "steps600: 0.27798335549549497\n",
      "steps650: 0.231990345862331\n",
      "steps700: 0.19434195163964924\n",
      "steps750: 0.1635241904439486\n",
      "steps800: 0.1382977651282284\n",
      "steps850: 0.11764822702036729\n",
      "steps900: 0.10074518115749187\n",
      "steps950: 0.08690889300663523\n",
      "steps1000: 0.07558295380333369\n",
      "steps1050: 0.06631190527946106\n",
      "steps1100: 0.05872292398712375\n",
      "steps1150: 0.052510828676960726\n",
      "steps1200: 0.04742580782159031\n",
      "steps1250: 0.04326337376214358\n",
      "steps1300: 0.0398561394966355\n",
      "steps1350: 0.03706708742415744\n",
      "steps1400: 0.03478405935598495\n",
      "steps1450: 0.032915246216389464\n",
      "steps1500: 0.03138549605719806\n",
      "steps1550: 0.03013329191759519\n",
      "steps1600: 0.02910827799763088\n",
      "steps1650: 0.02826923466364726\n",
      "steps1700: 0.02758242085303397\n",
      "steps1750: 0.027020217220225656\n",
      "steps1800: 0.026560015459779686\n",
      "steps1850: 0.026183309142071173\n",
      "steps1900: 0.025874949500717396\n",
      "steps1950: 0.025622536244167167\n",
      "steps2000: 0.02541591889371702\n",
      "steps2050: 0.02524678859489469\n",
      "steps2100: 0.025108343987423957\n",
      "steps2150: 0.02499501769715429\n",
      "steps2200: 0.02490225245117682\n",
      "steps2250: 0.02482631781287895\n",
      "steps2300: 0.024764160167171523\n",
      "steps2350: 0.024713279923234244\n",
      "steps2400: 0.024671630996643518\n",
      "steps2450: 0.02463753852868493\n",
      "steps2500: 0.02460963153403576\n",
      "steps2550: 0.02458678776833094\n",
      "steps2600: 0.024568088598530005\n",
      "steps2650: 0.02455278206125585\n",
      "steps2700: 0.024540252623541745\n",
      "steps2750: 0.02452999642995469\n",
      "steps2800: 0.024521601040688585\n",
      "steps2850: 0.024514728845821055\n",
      "steps2900: 0.024509103488758944\n",
      "steps2950: 0.024504498752908718\n",
      "steps3000: 0.02450072946466332\n",
      "steps3050: 0.024497644046880637\n",
      "steps3100: 0.024495118423401102\n",
      "steps3150: 0.024493051029482456\n",
      "steps3200: 0.024491358727502598\n",
      "steps3250: 0.024489973463685488\n",
      "steps3300: 0.024488839531405328\n",
      "steps3350: 0.024487911331014675\n",
      "steps3400: 0.02448715153611319\n",
      "steps3450: 0.024486529592513327\n",
      "steps3500: 0.02448602048954271\n",
      "steps3550: 0.02448560375427162\n",
      "steps3600: 0.02448526262822012\n",
      "steps3650: 0.024484983393437097\n",
      "steps3700: 0.02448475482085015\n",
      "steps3750: 0.02448456771870289\n",
      "steps3800: 0.024484414562919946\n",
      "steps3850: 0.024484289194535946\n",
      "steps3900: 0.024484186572020464\n",
      "steps3950: 0.024484102568539265\n",
      "steps4000: 0.024484033805999016\n",
      "steps4050: 0.024483977519201422\n",
      "steps4100: 0.02448393144464443\n",
      "steps4150: 0.024483893729498135\n",
      "steps4200: 0.024483862857095872\n",
      "steps4250: 0.024483837585943108\n",
      "steps4300: 0.024483816899792545\n",
      "steps4350: 0.024483799966776937\n",
      "steps4400: 0.024483786105956525\n",
      "steps4450: 0.024483774759935985\n",
      "steps4500: 0.02448376547244956\n",
      "steps4550: 0.02448375787001271\n",
      "steps4600: 0.024483751646903126\n",
      "steps4650: 0.024483746552866333\n",
      "steps4700: 0.024483742383052093\n",
      "steps4750: 0.024483738969776677\n",
      "steps4800: 0.024483736175779515\n",
      "steps4850: 0.024483733888703556\n",
      "steps4900: 0.024483732016576932\n",
      "steps4950: 0.024483730484114462\n",
      "1.3301287983819965 0.8760653751405509\n"
     ]
    }
   ],
   "source": [
    "# 拟合求取\n",
    "w = random.uniform(-1,1)\n",
    "b = random.uniform(-1,1)\n",
    "lr = 0.001\n",
    "all_loss = []\n",
    "\n",
    "#初始误差\n",
    "initial_loss = mse(y, x*w + b)\n",
    "\n",
    "for i in range(5000):#迭代1000次\n",
    "    w_grad, b_grad = gradient_compute(x, y, w, b)\n",
    "    w, b = param_update(w, b, w_grad, b_grad, lr)\n",
    "    loss = mse(y, x * w + b)\n",
    "    all_loss.append(loss)\n",
    "    \n",
    "    if i%50==0:\n",
    "        print('steps{}: {}'.format(i, loss))\n",
    "print(w, b)"
   ]
  },
  {
   "cell_type": "code",
   "execution_count": 23,
   "metadata": {},
   "outputs": [
    {
     "data": {
      "image/png": "[encoded data removed]",
      "text/plain": [
       "<Figure size 432x288 with 1 Axes>"
      ]
     },
     "metadata": {},
     "output_type": "display_data"
    }
   ],
   "source": [
    "iterations = np.arange(5000)\n",
    "loss = np.array(all_loss)\n",
    "plt.plot(iterations, loss)\n",
    "plt.show()"
   ]
  }
 ],
 "metadata": {
  "kernelspec": {
   "display_name": "Python 3",
   "language": "python",
   "name": "python3"
  },
  "language_info": {
   "codemirror_mode": {
    "name": "ipython",
    "version": 3
   },
   "file_extension": ".py",
   "mimetype": "text/x-python",
   "name": "python",
   "nbconvert_exporter": "python",
   "pygments_lexer": "ipython3",
   "version": "3.6.5"
  }
 },
 "nbformat": 4,
 "nbformat_minor": 4
}
