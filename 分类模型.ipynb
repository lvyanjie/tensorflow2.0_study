{
 "cells": [
  {
   "cell_type": "code",
   "execution_count": 2,
   "metadata": {},
   "outputs": [
    {
     "name": "stdout",
     "output_type": "stream",
     "text": [
      "Downloading data from https://storage.googleapis.com/tensorflow/tf-keras-datasets/mnist.npz\n",
      "11493376/11490434 [==============================] - 10s 1us/step\n"
     ]
    }
   ],
   "source": [
    "# 手写数字模型\n",
    "import tensorflow as tf\n",
    "\n",
    "minist = tf.keras.datasets.mnist.load_data()"
   ]
  },
  {
   "cell_type": "code",
   "execution_count": 8,
   "metadata": {},
   "outputs": [
    {
     "name": "stdout",
     "output_type": "stream",
     "text": [
      "(60000, 28, 28)\n"
     ]
    }
   ],
   "source": [
    "train, test = minist\n",
    "train_x, train_y = train\n",
    "test_x, test_y = test\n",
    "print(train_x.shape)"
   ]
  },
  {
   "cell_type": "code",
   "execution_count": 22,
   "metadata": {},
   "outputs": [],
   "source": [
    "# 基于keras构建模型\n",
    "# 784: 28 * 28\n",
    "def modelDef(input_shape=(784,)):\n",
    "    Input = tf.keras.layers.Input(shape=input_shape)\n",
    "    h1 = tf.keras.layers.Dense(256)(Input)\n",
    "    h2 = tf.keras.layers.Dense(64)(h1)\n",
    "    out = tf.keras.layers.Dense(10)(h2)#手写数字识别\n",
    "    model = tf.keras.Model(inputs=Input, outputs=out)\n",
    "    return model"
   ]
  },
  {
   "cell_type": "code",
   "execution_count": 46,
   "metadata": {},
   "outputs": [
    {
     "name": "stdout",
     "output_type": "stream",
     "text": [
      "steps 0, loss 5.56854248046875\n",
      "steps 50, loss 1.8341861963272095\n",
      "steps 100, loss 1.3916624784469604\n",
      "steps 150, loss 1.1849193572998047\n",
      "steps 200, loss 1.0610332489013672\n",
      "steps 250, loss 0.9766520857810974\n",
      "steps 300, loss 0.9145409464836121\n",
      "steps 350, loss 0.8664043545722961\n",
      "steps 400, loss 0.8277089595794678\n",
      "steps 450, loss 0.7957454323768616\n",
      "steps 500, loss 0.768782913684845\n",
      "steps 550, loss 0.7456572651863098\n",
      "steps 600, loss 0.7255526185035706\n",
      "steps 650, loss 0.7078773379325867\n",
      "steps 700, loss 0.6921904683113098\n",
      "steps 750, loss 0.6781554222106934\n",
      "steps 800, loss 0.6655097603797913\n",
      "steps 850, loss 0.654045820236206\n",
      "steps 900, loss 0.6435965299606323\n",
      "steps 950, loss 0.6340256929397583\n"
     ]
    }
   ],
   "source": [
    "model = modelDef()\n",
    "x = tf.reshape(train_x, [-1, 784])\n",
    "#归一化\n",
    "x = x / 255\n",
    "y = tf.one_hot(train_y, depth=10)\n",
    "optimizers = tf.keras.optimizers.SGD(lr = 0.001)\n",
    "all_loss = []\n",
    "\n",
    "for i in range(1000):\n",
    "    with tf.GradientTape() as tape:\n",
    "        pre_out = model(x)\n",
    "        loss = tf.reduce_sum(tf.square(pre_out - y)) / x.shape[0]\n",
    "        all_loss.append(loss)\n",
    "    if i%50==0:\n",
    "        print('steps {}, loss {}'.format(i, loss))\n",
    "    grads = tape.gradient(loss, model.trainable_variables)\n",
    "    optimizers.apply_gradients(zip(grads, model.trainable_variables))"
   ]
  },
  {
   "cell_type": "code",
   "execution_count": 48,
   "metadata": {},
   "outputs": [
    {
     "data": {
      "image/png": "[encoded data removed]",
      "text/plain": [
       "<Figure size 432x288 with 1 Axes>"
      ]
     },
     "metadata": {},
     "output_type": "display_data"
    }
   ],
   "source": [
    "import matplotlib.pyplot as plt\n",
    "\n",
    "plt.plot(np.arange(1000), np.array(all_loss))\n",
    "plt.show()"
   ]
  },
  {
   "cell_type": "code",
   "execution_count": null,
   "metadata": {},
   "outputs": [],
   "source": []
  }
 ],
 "metadata": {
  "kernelspec": {
   "display_name": "Python 3",
   "language": "python",
   "name": "python3"
  },
  "language_info": {
   "codemirror_mode": {
    "name": "ipython",
    "version": 3
   },
   "file_extension": ".py",
   "mimetype": "text/x-python",
   "name": "python",
   "nbconvert_exporter": "python",
   "pygments_lexer": "ipython3",
   "version": "3.6.5"
  }
 },
 "nbformat": 4,
 "nbformat_minor": 4
}
